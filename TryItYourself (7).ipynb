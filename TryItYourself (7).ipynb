{
  "nbformat": 4,
  "nbformat_minor": 0,
  "metadata": {
    "colab": {
      "name": "TryItYourself.ipynb",
      "provenance": [],
      "collapsed_sections": []
    },
    "kernelspec": {
      "name": "python3",
      "display_name": "Python 3"
    }
  },
  "cells": [
    {
      "cell_type": "markdown",
      "metadata": {
        "id": "gjV_H3pQjDU_",
        "colab_type": "text"
      },
      "source": [
        "###exercise:"
      ]
    },
    {
      "cell_type": "code",
      "metadata": {
        "id": "lfcv6QL33Ser",
        "colab_type": "code",
        "colab": {}
      },
      "source": [
        ""
      ],
      "execution_count": null,
      "outputs": []
    },
    {
      "cell_type": "code",
      "metadata": {
        "id": "cN4QgkFSfzO2",
        "colab_type": "code",
        "colab": {}
      },
      "source": [
        "for x in [0, 1, 2]:\n",
        "  pass"
      ],
      "execution_count": null,
      "outputs": []
    },
    {
      "cell_type": "code",
      "metadata": {
        "id": "9WIhd-PdgUYB",
        "colab_type": "code",
        "colab": {}
      },
      "source": [
        "for x in range(6):\n",
        "  print(x)\n",
        "else:\n",
        "  print(\"Finally finished!\")"
      ],
      "execution_count": null,
      "outputs": []
    },
    {
      "cell_type": "markdown",
      "metadata": {
        "id": "EnC3EnPFggpU",
        "colab_type": "text"
      },
      "source": [
        "###1.Loop through the items in the fruits list."
      ]
    },
    {
      "cell_type": "markdown",
      "metadata": {
        "id": "RRFYiH5ph6G7",
        "colab_type": "text"
      },
      "source": [
        "#### hint: looping"
      ]
    },
    {
      "cell_type": "code",
      "metadata": {
        "id": "Pr9CC2X7gY5C",
        "colab_type": "code",
        "colab": {
          "base_uri": "https://localhost:8080/",
          "height": 34
        },
        "outputId": "880e315d-ee99-4b11-bc59-4dd3bf5e3ffc"
      },
      "source": [
        "x = ['apple','banana','cherry']\n",
        " #write the statement\n",
        "print(x)"
      ],
      "execution_count": 48,
      "outputs": [
        {
          "output_type": "stream",
          "text": [
            "['apple', 'banana', 'cherry']\n"
          ],
          "name": "stdout"
        }
      ]
    },
    {
      "cell_type": "markdown",
      "metadata": {
        "id": "gyJJYdtnhQAD",
        "colab_type": "text"
      },
      "source": [
        "###2.Print i as long as i is less than 6."
      ]
    },
    {
      "cell_type": "markdown",
      "metadata": {
        "id": "zGxKNz5EiBjQ",
        "colab_type": "text"
      },
      "source": [
        "#### hint:looping"
      ]
    },
    {
      "cell_type": "code",
      "metadata": {
        "id": "zOI81loThR1o",
        "colab_type": "code",
        "colab": {
          "base_uri": "https://localhost:8080/",
          "height": 101
        },
        "outputId": "622b4731-6a4e-460c-fe19-fcdedd32f192"
      },
      "source": [
        "\n",
        " #write the statement\n",
        "for i in range(1,6):\n",
        "  print(i)\n",
        "  \n"
      ],
      "execution_count": 65,
      "outputs": [
        {
          "output_type": "stream",
          "text": [
            "1\n",
            "2\n",
            "3\n",
            "4\n",
            "5\n"
          ],
          "name": "stdout"
        }
      ]
    },
    {
      "cell_type": "markdown",
      "metadata": {
        "id": "SOf4rNQThr-w",
        "colab_type": "text"
      },
      "source": [
        "### 3.Print \"Hello World if a is greater than b."
      ]
    },
    {
      "cell_type": "markdown",
      "metadata": {
        "id": "20pokKOjiFR_",
        "colab_type": "text"
      },
      "source": [
        "####hint: conditional statements"
      ]
    },
    {
      "cell_type": "code",
      "metadata": {
        "id": "-F24Bx7nhtKl",
        "colab_type": "code",
        "colab": {
          "base_uri": "https://localhost:8080/",
          "height": 34
        },
        "outputId": "1149d810-e5fd-4b77-8e70-096b1e4cd20c"
      },
      "source": [
        "a = 50\n",
        "b = 10\n",
        "if a>b:\n",
        "#write the statement\n",
        "  print(\"Hello World\")"
      ],
      "execution_count": 82,
      "outputs": [
        {
          "output_type": "stream",
          "text": [
            "Hello World\n"
          ],
          "name": "stdout"
        }
      ]
    },
    {
      "cell_type": "markdown",
      "metadata": {
        "id": "SfnSOGHxiXDv",
        "colab_type": "text"
      },
      "source": [
        "###4.Take a variable x and print \"Even\" if the number(x) is divisible by 2, otherwise print \"Odd\"."
      ]
    },
    {
      "cell_type": "code",
      "metadata": {
        "id": "N_3U688vicnf",
        "colab_type": "code",
        "colab": {
          "base_uri": "https://localhost:8080/",
          "height": 34
        },
        "outputId": "10f2ed1f-57cf-4383-d83b-b7b0a94f22a2"
      },
      "source": [
        "x=2\n",
        "if x%2==0:\n",
        "  print('even')\n",
        "if x%2!=0:\n",
        "  print('odd')  "
      ],
      "execution_count": 88,
      "outputs": [
        {
          "output_type": "stream",
          "text": [
            "even\n"
          ],
          "name": "stdout"
        }
      ]
    },
    {
      "cell_type": "markdown",
      "metadata": {
        "id": "JzTQ0B3YimHB",
        "colab_type": "text"
      },
      "source": [
        "###5.Take a variable y and print \"Grade A\" if y is greater than 90, \"Grade B\" if y is greater than 60 but less than or equal to 90 and \"Grade F\" Otherwise."
      ]
    },
    {
      "cell_type": "code",
      "metadata": {
        "id": "PY_I-PD4ioaM",
        "colab_type": "code",
        "colab": {
          "base_uri": "https://localhost:8080/",
          "height": 34
        },
        "outputId": "76e8bb4d-e22e-46e5-f401-016ac89d4532"
      },
      "source": [
        "y=30\n",
        "if y>90:\n",
        "  print('grade A')\n",
        "if y>60 and y<=90:\n",
        "  print('grade B')\n",
        "if y<60:\n",
        "  print('grade F')    "
      ],
      "execution_count": 70,
      "outputs": [
        {
          "output_type": "stream",
          "text": [
            "grade F\n"
          ],
          "name": "stdout"
        }
      ]
    },
    {
      "cell_type": "markdown",
      "metadata": {
        "id": "on16MmsWiwAq",
        "colab_type": "text"
      },
      "source": [
        "###6. Write a for loop to print all the numbers between 10 and 50."
      ]
    },
    {
      "cell_type": "code",
      "metadata": {
        "id": "e8zSNg0tixpa",
        "colab_type": "code",
        "colab": {
          "base_uri": "https://localhost:8080/",
          "height": 689
        },
        "outputId": "0087ab1b-2bd8-4bca-ba5b-6a91b624f534"
      },
      "source": [
        "for i in range(10,50):\n",
        " print(i)\n",
        " i+=1"
      ],
      "execution_count": 73,
      "outputs": [
        {
          "output_type": "stream",
          "text": [
            "10\n",
            "11\n",
            "12\n",
            "13\n",
            "14\n",
            "15\n",
            "16\n",
            "17\n",
            "18\n",
            "19\n",
            "20\n",
            "21\n",
            "22\n",
            "23\n",
            "24\n",
            "25\n",
            "26\n",
            "27\n",
            "28\n",
            "29\n",
            "30\n",
            "31\n",
            "32\n",
            "33\n",
            "34\n",
            "35\n",
            "36\n",
            "37\n",
            "38\n",
            "39\n",
            "40\n",
            "41\n",
            "42\n",
            "43\n",
            "44\n",
            "45\n",
            "46\n",
            "47\n",
            "48\n",
            "49\n"
          ],
          "name": "stdout"
        }
      ]
    },
    {
      "cell_type": "markdown",
      "metadata": {
        "id": "5lmW_684iyji",
        "colab_type": "text"
      },
      "source": [
        "###7.Write a for loop to print all the 0dd numbers between 50 and 100."
      ]
    },
    {
      "cell_type": "markdown",
      "metadata": {
        "id": "OPKRvXBZi7Yl",
        "colab_type": "text"
      },
      "source": [
        "#### hint: use range with step."
      ]
    },
    {
      "cell_type": "code",
      "metadata": {
        "id": "IycxIyJki3v_",
        "colab_type": "code",
        "colab": {
          "base_uri": "https://localhost:8080/",
          "height": 34
        },
        "outputId": "fb0fe6e0-fa24-48f0-a98e-6108a351d513"
      },
      "source": [
        "start,end=50,100\n",
        "for n in range(start,end +1):\n",
        "  if n%2!=0:\n",
        "    print(n,end=\" \")\n"
      ],
      "execution_count": 79,
      "outputs": [
        {
          "output_type": "stream",
          "text": [
            "51 53 55 57 59 61 63 65 67 69 71 73 75 77 79 81 83 85 87 89 91 93 95 97 99 "
          ],
          "name": "stdout"
        }
      ]
    }
  ]
}